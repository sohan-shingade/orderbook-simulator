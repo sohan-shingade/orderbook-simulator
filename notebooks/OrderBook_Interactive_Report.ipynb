{
 "cells": [
  {
   "cell_type": "markdown",
   "id": "6094427d",
   "metadata": {},
   "source": [
    "\n",
    "# Order Book Simulator — Interactive Report\n",
    "\n",
    "**Author:** Sohan Shingade (UC San Diego — Data Science & Finance)\n",
    "\n",
    "## Executive Overview (Non-technical)\n",
    "- I built a **matching engine** that simulates how exchanges match buy/sell orders using **price–time priority**: best price wins; ties go to the earliest order.\n",
    "- The engine supports **limit & market orders**, **partial fills**, **cancels**, **replaces**, and **IOC/FOK** time-in-force rules.\n",
    "- I generate a synthetic, deterministic order flow (fixed seed) to analyze **spread, midprice, depth, and imbalance**, and I measure **latency** for core operations.\n",
    "- This demonstrates three qualities that matter in trading systems:\n",
    "  1. **Correctness** (invariants: no crossed book, FIFO),\n",
    "  2. **Maintainability** (typed modules, unit + property tests, docs & CLI),\n",
    "  3. **Efficiency** (O(1)-ish best-price ops via heaps + deques; latency benchmarks).\n",
    "\n",
    "Use the controls below to explore the simulated market state and performance.\n"
   ]
  },
  {
   "cell_type": "markdown",
   "id": "484dd170",
   "metadata": {},
   "source": [
    "\n",
    "## 0) Setup (Install optional interactive deps if missing)\n",
    "\n",
    "> The core project needs only `numpy`, `pandas`, `matplotlib`.  \n",
    "> For interactive charts, I optionally use **plotly** and **ipywidgets**.\n",
    "\n",
    "Run this once if needed:\n",
    "```bash\n",
    "pip install plotly ipywidgets\n",
    "# For Jupyter Lab:\n",
    "jupyter labextension list  # recent Jupyter doesn't require manual widget extensions\n",
    "```\n"
   ]
  },
  {
   "cell_type": "code",
   "execution_count": 1,
   "id": "8fbea804",
   "metadata": {},
   "outputs": [
    {
     "name": "stdout",
     "output_type": "stream",
     "text": [
      "Writing artifacts to: /Users/sohan/Documents/quantprep/orderbook-simulator/results\n"
     ]
    }
   ],
   "source": [
    "\n",
    "# Path setup so we can import the package directly if running from repo\n",
    "import sys, pathlib\n",
    "ROOT = pathlib.Path.cwd()\n",
    "if (ROOT / \"orderbook\").exists() and str(ROOT) not in sys.path:\n",
    "    sys.path.insert(0, str(ROOT))\n",
    "    \n",
    "ROOT = pathlib.Path.cwd().parent   # go up one level from notebooks/\n",
    "RESULTS_DIR = ROOT / \"results\"\n",
    "\n",
    "import numpy as np\n",
    "import pandas as pd\n",
    "\n",
    "# Interactive libs\n",
    "import plotly.express as px\n",
    "import plotly.graph_objects as go\n",
    "from ipywidgets import interact, FloatSlider, IntSlider, VBox, HBox, Dropdown, Layout\n",
    "\n",
    "from orderbook.sim import SimConfig, Simulator, save_artifacts\n",
    "from orderbook.metrics import l1_metrics_from_snapshots, summarize_latency_ns\n",
    "\n",
    "(RESULTS_DIR / \"figures\").mkdir(parents=True, exist_ok=True)\n",
    "print(\"Writing artifacts to:\", RESULTS_DIR)\n"
   ]
  },
  {
   "cell_type": "code",
   "execution_count": 2,
   "id": "414f56b3",
   "metadata": {},
   "outputs": [
    {
     "name": "stdout",
     "output_type": "stream",
     "text": [
      "Plotly 6.3.0 | renderer: plotly_mimetype\n"
     ]
    }
   ],
   "source": [
    "# --- Plotly & display setup (paste near the top) ---\n",
    "from IPython.display import display\n",
    "import os\n",
    "import plotly, plotly.io as pio\n",
    "\n",
    "# Pick the right renderer for your environment\n",
    "# if \"VSCODE_PID\" in os.environ:\n",
    "#     pio.renderers.default = \"vscode\"              # VS Code\n",
    "# else:\n",
    "#     try:\n",
    "#         # Works in JupyterLab/Notebook with a live kernel\n",
    "#         pio.renderers.default = \"notebook_connected\"\n",
    "#     except Exception:\n",
    "#         pio.renderers.default = \"browser\"         # Fallback: opens charts in your web browser\n",
    "pio.renderers.default = \"plotly_mimetype\"\n",
    "print(\"Plotly\", plotly.__version__, \"| renderer:\", pio.renderers.default)\n"
   ]
  },
  {
   "cell_type": "markdown",
   "id": "f03c8b46",
   "metadata": {},
   "source": [
    "## 1) Interactive parameters"
   ]
  },
  {
   "cell_type": "code",
   "execution_count": 3,
   "id": "fde9c1d5",
   "metadata": {},
   "outputs": [
    {
     "data": {
      "application/vnd.jupyter.widget-view+json": {
       "model_id": "04396f8814e342189ce9749c0fe8e5be",
       "version_major": 2,
       "version_minor": 0
      },
      "text/plain": [
       "VBox(children=(IntSlider(value=30, description='seed', max=10000), IntSlider(value=150000, description='events…"
      ]
     },
     "execution_count": 3,
     "metadata": {},
     "output_type": "execute_result"
    }
   ],
   "source": [
    "\n",
    "# Sliders for quick exploration\n",
    "seed_slider   = IntSlider(value=30, min=0, max=10_000, step=1, description='seed')\n",
    "events_slider = IntSlider(value=150_000, min=10_000, max=400_000, step=10_000, description='events')\n",
    "p_limit       = FloatSlider(value=0.65, min=0.0, max=1.0, step=0.01, description='p_limit')\n",
    "p_market      = FloatSlider(value=0.20, min=0.0, max=1.0, step=0.01, description='p_market')\n",
    "p_cancel      = FloatSlider(value=0.10, min=0.0, max=1.0, step=0.01, description='p_cancel')\n",
    "p_replace     = FloatSlider(value=0.05, min=0.0, max=1.0, step=0.01, description='p_replace')\n",
    "sigma_ticks   = FloatSlider(value=1.5, min=0.2, max=5.0, step=0.1, description='sigma_ticks')\n",
    "size_mean     = FloatSlider(value=100.0, min=10.0, max=1000.0, step=10.0, description='size_mean')\n",
    "\n",
    "VBox([seed_slider, events_slider, HBox([p_limit, p_market]), HBox([p_cancel, p_replace]), HBox([sigma_ticks, size_mean])])\n"
   ]
  },
  {
   "cell_type": "markdown",
   "id": "75d22be0",
   "metadata": {},
   "source": [
    "## 2) Run simulation (reproducible) and build interactive figures"
   ]
  },
  {
   "cell_type": "code",
   "execution_count": 4,
   "id": "bf055815",
   "metadata": {},
   "outputs": [
    {
     "data": {
      "application/vnd.jupyter.widget-view+json": {
       "model_id": "1846bfed26d049238fdb5775f3b49772",
       "version_major": 2,
       "version_minor": 0
      },
      "text/plain": [
       "interactive(children=(IntSlider(value=30, description='seed', max=10000), IntSlider(value=150000, description=…"
      ]
     },
     "metadata": {},
     "output_type": "display_data"
    }
   ],
   "source": [
    "\n",
    "def run_sim(seed, events, p_lim, p_mkt, p_can, p_rep, sig_ticks, s_mean):\n",
    "    # Normalize mix to keep probabilities sensible (the simulator uses absolute, but we clip)\n",
    "    total = p_lim + p_mkt + p_can + p_rep\n",
    "    if total == 0:\n",
    "        p_lim = 1.0; p_mkt = p_can = p_rep = 0.0\n",
    "    else:\n",
    "        p_lim, p_mkt, p_can, p_rep = [x/total for x in (p_lim, p_mkt, p_can, p_rep)]\n",
    "\n",
    "    cfg = SimConfig(\n",
    "        seed=int(seed),\n",
    "        n_events=int(events),\n",
    "        tick_size=0.01,\n",
    "        p_limit=p_lim,\n",
    "        p_market=p_mkt,\n",
    "        p_cancel=p_can,\n",
    "        p_replace=p_rep,\n",
    "        mid0=100.0,\n",
    "        sigma_ticks=float(sig_ticks),\n",
    "        drift_per_1k=0.0,\n",
    "        size_mean=float(s_mean),\n",
    "        size_min=10,\n",
    "        p_ioc=0.05,\n",
    "        p_fok=0.02,\n",
    "        snapshot_every=250,\n",
    "    )\n",
    "    sim = Simulator(cfg)\n",
    "    art = sim.run()\n",
    "    paths = save_artifacts(art, str(RESULTS_DIR))\n",
    "    return art, paths\n",
    "\n",
    "def interactive_run(seed, events, p_lim, p_mkt, p_can, p_rep, sig_ticks, s_mean):\n",
    "    art, paths = run_sim(seed, events, p_lim, p_mkt, p_can, p_rep, sig_ticks, s_mean)\n",
    "    snaps = art.snapshots.copy()\n",
    "    snaps['event'] = snaps['event'].astype(int)\n",
    "\n",
    "    # L1 metrics\n",
    "    m = l1_metrics_from_snapshots(snaps)\n",
    "    df_metrics = pd.DataFrame({\n",
    "        'event': snaps['event'],\n",
    "        'spread': m.spread.values,\n",
    "        'mid': m.mid.values,\n",
    "        'bid_depth': m.bid_depth.values,\n",
    "        'ask_depth': m.ask_depth.values,\n",
    "        'imbalance': m.imbalance.values,\n",
    "    })\n",
    "\n",
    "    # Interactive line chart with range slider\n",
    "    fig_mid = px.line(df_metrics, x='event', y='mid', title='Midprice')\n",
    "    fig_mid.update_layout(xaxis_rangeslider_visible=True)\n",
    "\n",
    "    fig_spread = px.line(df_metrics, x='event', y='spread', title='Spread (L1)')\n",
    "    fig_spread.update_layout(xaxis_rangeslider_visible=True)\n",
    "\n",
    "    fig_depths = go.Figure()\n",
    "    fig_depths.add_trace(go.Scatter(x=df_metrics['event'], y=df_metrics['bid_depth'], mode='lines', name='bid_depth'))\n",
    "    fig_depths.add_trace(go.Scatter(x=df_metrics['event'], y=df_metrics['ask_depth'], mode='lines', name='ask_depth'))\n",
    "    fig_depths.update_layout(title='L1 Depths', xaxis_title='event', yaxis_title='shares', xaxis_rangeslider_visible=True)\n",
    "\n",
    "    fig_imb = px.line(df_metrics, x='event', y='imbalance', title='Order Book Imbalance')\n",
    "    fig_imb.update_layout(xaxis_rangeslider_visible=True)\n",
    "\n",
    "    # Latency histogram (μs)\n",
    "    us = art.latencies_ns / 1_000.0\n",
    "    fig_lat = px.histogram(x=us, nbins=60, title='Operation Latency (μs)')\n",
    "    fig_lat.update_layout(xaxis_title='latency (μs)', yaxis_title='count')\n",
    "\n",
    "    # Latency summary box\n",
    "    summ = summarize_latency_ns(art.latencies_ns)\n",
    "    summary_md = f\"\"\"**Latency summary (ns)**  \n",
    "- p50: {summ['p50_ns']:.0f}  \n",
    "- p90: {summ['p90_ns']:.0f}  \n",
    "- p99: {summ['p99_ns']:.0f}  \n",
    "- ops/sec: {summ['ops_per_sec']:.0f}\n",
    "\"\"\"\n",
    "\n",
    "    display(fig_mid)\n",
    "    display(fig_spread)\n",
    "    display(fig_depths)\n",
    "    display(fig_imb)\n",
    "    display(fig_lat)\n",
    "\n",
    "    print(summary_md)\n",
    "    print(\"Artifacts saved:\", paths)\n",
    "\n",
    "interact(\n",
    "    interactive_run,\n",
    "    seed=seed_slider, events=events_slider,\n",
    "    p_lim=p_limit, p_mkt=p_market, p_can=p_cancel, p_rep=p_replace,\n",
    "    sig_ticks=sigma_ticks, s_mean=size_mean\n",
    ");\n"
   ]
  },
  {
   "cell_type": "markdown",
   "id": "daf1fc2a",
   "metadata": {},
   "source": [
    "### Chart: Midprice\n",
    "The **midprice** is the average of best bid and best ask.  \n",
    "It represents the \"fair\" short-term value of the asset according to current supply and demand.  \n",
    "Watching its path shows how the simulated market drifts and mean-reverts under order flow."
   ]
  },
  {
   "cell_type": "markdown",
   "id": "55d512a8",
   "metadata": {},
   "source": [
    "### Chart: Spread\n",
    "The **spread** is the difference between best ask and best bid.  \n",
    "It measures instantaneous transaction cost and liquidity tightness.  \n",
    "Narrow spreads indicate high liquidity, while wide spreads signal low liquidity or imbalance."
   ]
  },
  {
   "cell_type": "markdown",
   "id": "24341393",
   "metadata": {},
   "source": [
    "### Chart: L1 Depths\n",
    "The **bid depth** and **ask depth** at the top of book show how many shares are waiting at best bid and ask.  \n",
    "Together they reflect immediate liquidity available for trading.  \n",
    "Asymmetries here often predict short-term price moves."
   ]
  },
  {
   "cell_type": "markdown",
   "id": "ec140ca9",
   "metadata": {},
   "source": [
    "### Chart: Order Book Imbalance\n",
    "The **imbalance** compares bid vs ask depth at L1.  \n",
    "Positive imbalance (>0) means more demand than supply at the top, potentially upward pressure.  \n",
    "Negative imbalance (<0) indicates more supply, downward pressure."
   ]
  },
  {
   "cell_type": "markdown",
   "id": "0bde533f",
   "metadata": {},
   "source": [
    "### Chart: Latency Histogram\n",
    "This shows the distribution of matching engine operation latencies (in microseconds).  \n",
    "Most ops are fast; the tail comes from cancels/replaces scanning within price levels.  \n",
    "Efficient engines have tight distributions with low tails."
   ]
  },
  {
   "cell_type": "markdown",
   "id": "adc52198",
   "metadata": {},
   "source": [
    "\n",
    "## Notes for Interviewers (1 minute)\n",
    "- Matching is strictly **price–time priority** with **FIFO** at each price level.\n",
    "- The engine includes **IOC** and **FOK**, **cancel**, and **replace** (price change resets queue priority).\n",
    "- Hot paths use **`dict[price] -> deque`** and **heaps** for best-price discovery with lazy cleanup.\n",
    "- I validate correctness via **unit tests** and (optionally) **property-based tests**.\n",
    "- The simulator + plots let me reason about **spread, depth, imbalance**, and **latency** under configurable flow.\n"
   ]
  },
  {
   "cell_type": "markdown",
   "id": "13985b3c",
   "metadata": {},
   "source": []
  }
 ],
 "metadata": {
  "kernelspec": {
   "display_name": "Python 3 (ipykernel)",
   "language": "python",
   "name": "python3"
  },
  "language_info": {
   "codemirror_mode": {
    "name": "ipython",
    "version": 3
   },
   "file_extension": ".py",
   "mimetype": "text/x-python",
   "name": "python",
   "nbconvert_exporter": "python",
   "pygments_lexer": "ipython3",
   "version": "3.11.13"
  }
 },
 "nbformat": 4,
 "nbformat_minor": 5
}
